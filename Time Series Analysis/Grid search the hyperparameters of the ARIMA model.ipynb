{
 "cells": [
  {
   "cell_type": "code",
   "execution_count": null,
   "metadata": {},
   "outputs": [],
   "source": [
    "# Configuring an ARIMA Model\n",
    "# The classical approach for fitting an ARIMA model is to follow the Box-Jenkins Methodology.\n",
    "# This is a process that uses time series analysis and diagnostics to discover good parameters \n",
    "# for the ARIMA model.\n",
    "\n",
    "# In summary, the steps of this process are as follows:\n",
    "\n",
    "# Model Identification. Use plots and summary statistics to identify trends, seasonality, \n",
    "# and autoregression elements to get an idea of the amount of differencing and the size of the lag \n",
    "# that will be required.\n",
    "\n",
    "# Parameter Estimation. Use a fitting procedure to find the coefficients of the regression model.\n",
    "\n",
    "# Model Checking. Use plots and statistical tests of the residual errors to determine the amount \n",
    "# and type of temporal structure not captured by the model.\n",
    "# The process is repeated until either a desirable level of fit is achieved on the in-sample \n",
    "# or out-of-sample observations (e.g. training or test datasets)."
   ]
  },
  {
   "cell_type": "code",
   "execution_count": null,
   "metadata": {},
   "outputs": [],
   "source": [
    "# The ARIMA model for time series analysis and forecasting can be tricky to configure.\n",
    "\n",
    "# There are 3 parameters that require estimation by iterative trial \n",
    "# and error from reviewing diagnostic plots and using 40-year-old heuristic rules.\n",
    "\n",
    "# We can automate the process of evaluating a large number of hyperparameters \n",
    "# for the ARIMA model by using a grid search procedure."
   ]
  },
  {
   "cell_type": "code",
   "execution_count": null,
   "metadata": {},
   "outputs": [],
   "source": [
    "# Grid Searching Method\n",
    "\n",
    "# Diagnostic plots of the time series can be used along with heuristic rules \n",
    "# to determine the hyperparameters of the ARIMA model.\n",
    "\n",
    "# These are good in most, but perhaps not all, situations.\n",
    "\n",
    "# We can automate the process of training and evaluating ARIMA models \n",
    "# on different combinations of model hyperparameters. \n",
    "# In machine learning this is called a grid search or model tuning."
   ]
  },
  {
   "cell_type": "code",
   "execution_count": null,
   "metadata": {},
   "outputs": [],
   "source": [
    "# In this tutorial, we will develop a method to grid search ARIMA hyperparameters for a one-step rolling forecast.\n",
    "\n",
    "# The approach is broken down into two parts:\n",
    "\n",
    "#    Evaluate an ARIMA model.\n",
    "#    Evaluate sets of ARIMA parameters."
   ]
  },
  {
   "cell_type": "markdown",
   "metadata": {},
   "source": [
    "###### 1. Evaluate ARIMA Model"
   ]
  },
  {
   "cell_type": "code",
   "execution_count": null,
   "metadata": {},
   "outputs": [],
   "source": [
    "# The dataset is split in two: 66% for the initial training dataset and the remaining 34% for the test dataset.\n",
    "\n",
    "# Each time step of the test set is iterated. Just one iteration provides a model \n",
    "# that you could use to make predictions on new data. \n",
    "# The iterative approach allows a new ARIMA model to be trained each time step.\n",
    "\n",
    "# A prediction is made each iteration and stored in a list. \n",
    "# This is so that at the end of the test set, all predictions can be compared to the list of expected values \n",
    "# and an error score calculated. In this case, a mean squared error score is calculated and returned."
   ]
  },
  {
   "cell_type": "code",
   "execution_count": 9,
   "metadata": {},
   "outputs": [],
   "source": [
    "import warnings\n",
    "from pandas import read_csv\n",
    "from datetime import datetime\n",
    "from statsmodels.tsa.arima_model import ARIMA\n",
    "from sklearn.metrics import mean_squared_error\n",
    "warnings.filterwarnings(\"ignore\")"
   ]
  },
  {
   "cell_type": "code",
   "execution_count": 10,
   "metadata": {},
   "outputs": [],
   "source": [
    "# evaluate an ARIMA model for a given order (p,d,q)\n",
    "def evaluate_arima_model(X, arima_order):\n",
    "\t# prepare training dataset\n",
    "\ttrain_size = int(len(X) * 0.66)\n",
    "\ttrain, test = X[0:train_size], X[train_size:]\n",
    "\thistory = [x for x in train]\n",
    "\t# make predictions\n",
    "\tpredictions = list()\n",
    "\tfor t in range(len(test)):\n",
    "\t\tmodel = ARIMA(history, order=arima_order)\n",
    "\t\tmodel_fit = model.fit(disp=0)\n",
    "\t\tyhat = model_fit.forecast()[0]\n",
    "\t\tpredictions.append(yhat)\n",
    "\t\thistory.append(test[t])\n",
    "\t# calculate out of sample error\n",
    "\terror = mean_squared_error(test, predictions)\n",
    "\treturn error"
   ]
  },
  {
   "cell_type": "markdown",
   "metadata": {},
   "source": [
    "###### 2. Iterate ARIMA Parameters"
   ]
  },
  {
   "cell_type": "code",
   "execution_count": null,
   "metadata": {},
   "outputs": [],
   "source": [
    "# Evaluating a suite of parameters is relatively straightforward.\n",
    "\n",
    "# The user must specify a grid of p, d, and q ARIMA parameters to iterate. \n",
    "# A model is created for each parameter and its performance evaluated by calling the evaluate_arima_model() function \n",
    "# described in the previous section.\n",
    "\n",
    "# The function must keep track of the lowest error score observed and the configuration that caused it. \n",
    "# This can be summarized at the end of the function with a print to standard out.\n",
    "\n",
    "# We can implement this function called evaluate_models() as a series of four loops.\n",
    "\n",
    "# There are two additional considerations. The first is to ensure the input data are floating point values \n",
    "# (as opposed to integers or strings), as this can cause the ARIMA procedure to fail.\n",
    "\n",
    "# Second, the statsmodels ARIMA procedure internally uses numerical optimization procedures to find a set of coefficients for the model. \n",
    "# These procedures can fail, which in turn can throw an exception. We must catch these exceptions and skip those configurations \n",
    "# that cause a problem. This happens more often then you would think.\n",
    "\n",
    "# Additionally, it is recommended that warnings be ignored for this code to avoid a lot of noise from running the procedure. \n",
    "# This can be done as follows:"
   ]
  },
  {
   "cell_type": "code",
   "execution_count": 11,
   "metadata": {},
   "outputs": [],
   "source": [
    "# evaluate combinations of p, d and q values for an ARIMA model\n",
    "def evaluate_models(dataset, p_values, d_values, q_values):\n",
    "\tdataset = dataset.astype('float32')\n",
    "\tbest_score, best_cfg = float(\"inf\"), None\n",
    "\tfor p in p_values:\n",
    "\t\tfor d in d_values:\n",
    "\t\t\tfor q in q_values:\n",
    "\t\t\t\torder = (p,d,q)\n",
    "\t\t\t\ttry:\n",
    "\t\t\t\t\tmse = evaluate_arima_model(dataset, order)\n",
    "\t\t\t\t\tif mse < best_score:\n",
    "\t\t\t\t\t\tbest_score, best_cfg = mse, order\n",
    "\t\t\t\t\tprint('ARIMA%s MSE=%.3f' % (order,mse))\n",
    "\t\t\t\texcept:\n",
    "\t\t\t\t\tcontinue\n",
    "\tprint('Best ARIMA%s MSE=%.3f' % (best_cfg, best_score))"
   ]
  },
  {
   "cell_type": "code",
   "execution_count": null,
   "metadata": {},
   "outputs": [],
   "source": [
    "# Now that we have a procedure to grid search ARIMA hyperparameters, let’s test the procedure on two univariate time series problems."
   ]
  },
  {
   "cell_type": "markdown",
   "metadata": {},
   "source": [
    "###### Shampoo Sales Case Study"
   ]
  },
  {
   "cell_type": "code",
   "execution_count": null,
   "metadata": {},
   "outputs": [],
   "source": [
    "# The monthly number of sales of shampoo over a 3-year period. The units are a sales count and there are 36 observations."
   ]
  },
  {
   "cell_type": "code",
   "execution_count": 12,
   "metadata": {},
   "outputs": [],
   "source": [
    "# load dataset\n",
    "def parser(x):\n",
    "\treturn datetime.strptime('190'+x, '%Y-%m')\n",
    "series = read_csv('shampoo.csv', header=0, parse_dates=[0], index_col=0, squeeze=True, date_parser=parser)"
   ]
  },
  {
   "cell_type": "code",
   "execution_count": null,
   "metadata": {},
   "outputs": [],
   "source": [
    "# Once loaded, we can specify a site of p, d, and q values to search \n",
    "# and pass them to the evaluate_models() function.\n",
    "\n",
    "# We will try a suite of lag values (p) and just a few difference iterations (d) \n",
    "# and residual error lag values (q)."
   ]
  },
  {
   "cell_type": "code",
   "execution_count": null,
   "metadata": {},
   "outputs": [],
   "source": [
    "# Putting this all together with the generic procedures defined in the previous section, \n",
    "# we can grid search ARIMA hyperparameters in the Shampoo Sales dataset."
   ]
  },
  {
   "cell_type": "code",
   "execution_count": 7,
   "metadata": {},
   "outputs": [
    {
     "name": "stdout",
     "output_type": "stream",
     "text": [
      "ARIMA(0, 0, 0) MSE=52425.268\n",
      "ARIMA(0, 0, 1) MSE=38145.195\n",
      "ARIMA(0, 0, 2) MSE=23989.599\n",
      "ARIMA(0, 1, 0) MSE=18003.173\n",
      "ARIMA(0, 1, 1) MSE=9558.316\n",
      "ARIMA(0, 1, 2) MSE=6306.301\n",
      "ARIMA(0, 2, 0) MSE=67339.808\n",
      "ARIMA(0, 2, 1) MSE=18322.407\n",
      "ARIMA(1, 0, 0) MSE=23113.098\n",
      "ARIMA(1, 0, 2) MSE=7290.639\n",
      "ARIMA(1, 1, 0) MSE=7121.369\n",
      "ARIMA(1, 1, 1) MSE=7003.683\n",
      "ARIMA(1, 2, 0) MSE=18608.012\n",
      "ARIMA(2, 0, 0) MSE=10202.713\n",
      "ARIMA(2, 1, 0) MSE=5689.927\n",
      "ARIMA(2, 1, 1) MSE=7759.708\n",
      "ARIMA(2, 2, 0) MSE=9860.949\n",
      "ARIMA(4, 0, 0) MSE=10037.070\n",
      "ARIMA(4, 1, 0) MSE=6649.593\n",
      "ARIMA(4, 1, 1) MSE=6796.287\n",
      "ARIMA(4, 2, 0) MSE=7596.327\n",
      "ARIMA(4, 2, 1) MSE=4694.875\n",
      "ARIMA(6, 1, 0) MSE=6810.076\n",
      "ARIMA(6, 1, 1) MSE=4343.822\n",
      "ARIMA(6, 2, 0) MSE=6261.124\n",
      "ARIMA(8, 1, 0) MSE=6579.719\n",
      "ARIMA(10, 1, 0) MSE=7532.391\n",
      "Best ARIMA(6, 1, 1) MSE=4343.822\n"
     ]
    }
   ],
   "source": [
    "# evaluate parameters\n",
    "p_values = [0, 1, 2, 4, 6, 8, 10]\n",
    "d_values = range(0, 3)\n",
    "q_values = range(0, 3)\n",
    "warnings.filterwarnings(\"ignore\")\n",
    "evaluate_models(series.values, p_values, d_values, q_values)"
   ]
  },
  {
   "cell_type": "code",
   "execution_count": null,
   "metadata": {},
   "outputs": [],
   "source": [
    "# The best parameters of ARIMA(6, 1, 1) are reported at the end of the run with a mean squared error of 4,343.822."
   ]
  },
  {
   "cell_type": "markdown",
   "metadata": {},
   "source": [
    "###### Daily Female Births Case Study"
   ]
  },
  {
   "cell_type": "code",
   "execution_count": null,
   "metadata": {},
   "outputs": [],
   "source": [
    "# The Daily Female Births dataset describes the number of daily female births in California in 1959.\n",
    "# The units are a count and there are 365 observations. "
   ]
  },
  {
   "cell_type": "code",
   "execution_count": 13,
   "metadata": {},
   "outputs": [],
   "source": [
    "series = read_csv('daily-total-female-births.csv', header=0, index_col=0)"
   ]
  },
  {
   "cell_type": "code",
   "execution_count": null,
   "metadata": {},
   "outputs": [
    {
     "name": "stdout",
     "output_type": "stream",
     "text": [
      "ARIMA(0, 0, 0) MSE=67.063\n",
      "ARIMA(0, 0, 1) MSE=62.165\n",
      "ARIMA(0, 0, 2) MSE=60.386\n",
      "ARIMA(0, 1, 0) MSE=84.038\n",
      "ARIMA(0, 1, 1) MSE=56.653\n",
      "ARIMA(0, 1, 2) MSE=55.271\n",
      "ARIMA(0, 2, 0) MSE=246.414\n",
      "ARIMA(0, 2, 1) MSE=84.659\n",
      "ARIMA(0, 2, 2) MSE=57.245\n",
      "ARIMA(1, 0, 0) MSE=60.876\n",
      "ARIMA(1, 0, 1) MSE=57.058\n",
      "ARIMA(1, 1, 0) MSE=65.928\n",
      "ARIMA(1, 1, 1) MSE=55.129\n",
      "ARIMA(1, 1, 2) MSE=55.192\n",
      "ARIMA(1, 2, 0) MSE=143.755\n",
      "ARIMA(2, 0, 0) MSE=59.251\n",
      "ARIMA(2, 0, 1) MSE=55.075\n",
      "ARIMA(2, 0, 2) MSE=55.101\n",
      "ARIMA(2, 1, 0) MSE=59.487\n",
      "ARIMA(2, 1, 1) MSE=55.012\n",
      "ARIMA(2, 1, 2) MSE=55.215\n",
      "ARIMA(2, 2, 0) MSE=107.600\n",
      "ARIMA(4, 0, 0) MSE=59.189\n",
      "ARIMA(4, 0, 1) MSE=61.287\n",
      "ARIMA(4, 0, 2) MSE=55.618\n",
      "ARIMA(4, 1, 0) MSE=57.428\n",
      "ARIMA(4, 1, 1) MSE=55.862\n",
      "ARIMA(4, 1, 2) MSE=55.570\n",
      "ARIMA(4, 2, 0) MSE=80.207\n",
      "ARIMA(6, 0, 0) MSE=58.773\n",
      "ARIMA(6, 0, 1) MSE=59.455\n",
      "ARIMA(6, 1, 0) MSE=53.187\n",
      "ARIMA(6, 1, 1) MSE=57.287\n",
      "ARIMA(6, 1, 2) MSE=55.675\n",
      "ARIMA(6, 2, 0) MSE=69.753\n",
      "ARIMA(8, 0, 0) MSE=56.984\n",
      "ARIMA(8, 0, 1) MSE=57.224\n",
      "ARIMA(8, 0, 2) MSE=58.135\n",
      "ARIMA(8, 1, 0) MSE=57.290\n",
      "ARIMA(8, 1, 1) MSE=55.210\n",
      "ARIMA(8, 1, 2) MSE=55.283\n",
      "ARIMA(8, 2, 0) MSE=66.034\n",
      "ARIMA(8, 2, 1) MSE=57.793\n"
     ]
    }
   ],
   "source": [
    "# evaluate parameters\n",
    "p_values = [0, 1, 2, 4, 6, 8, 10]\n",
    "d_values = range(0, 3)\n",
    "q_values = range(0, 3)\n",
    "warnings.filterwarnings(\"ignore\")\n",
    "evaluate_models(series.values, p_values, d_values, q_values)"
   ]
  },
  {
   "cell_type": "code",
   "execution_count": null,
   "metadata": {},
   "outputs": [],
   "source": [
    "# Running the example prints the ARIMA parameters and mean squared error for each configuration successfully evaluated.\n",
    "# The best mean parameters are reported as ARIMA(6, 1, 0) with a mean squared error of 53.187."
   ]
  }
 ],
 "metadata": {
  "kernelspec": {
   "display_name": "Python 3",
   "language": "python",
   "name": "python3"
  },
  "language_info": {
   "codemirror_mode": {
    "name": "ipython",
    "version": 3
   },
   "file_extension": ".py",
   "mimetype": "text/x-python",
   "name": "python",
   "nbconvert_exporter": "python",
   "pygments_lexer": "ipython3",
   "version": "3.6.5"
  }
 },
 "nbformat": 4,
 "nbformat_minor": 2
}
